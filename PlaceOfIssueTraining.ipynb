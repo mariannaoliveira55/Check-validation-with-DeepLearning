{
 "cells": [
  {
   "cell_type": "code",
   "execution_count": 2,
   "id": "2ca6106d-9d5b-4171-91f6-c1d07d5a2492",
   "metadata": {},
   "outputs": [],
   "source": [
    "import tensorflow as tf\n",
    "import os\n",
    "import pandas as pd\n",
    "import numpy as np\n",
    "import cv2 as cv\n",
    "from sklearn.model_selection import train_test_split\n",
    "from sklearn.metrics import classification_report, confusion_matrix\n",
    "from tensorflow.keras.models import Sequential\n",
    "from tensorflow.keras.layers import Conv2D,MaxPooling2D,Dropout,BatchNormalization,Flatten,Dense\n",
    "from sklearn.metrics import confusion_matrix\n",
    "import seaborn as sns\n",
    "import matplotlib.pyplot as plt"
   ]
  },
  {
   "cell_type": "code",
   "execution_count": 3,
   "id": "4412a51c-0a37-4948-b5ed-ffc95810e3a2",
   "metadata": {},
   "outputs": [],
   "source": [
    "df = pd.read_csv(\"Dataset Completo/DataframeCompleto.csv\", index_col = 0)\n",
    "df = df[['frente','Local de emissão']]"
   ]
  },
  {
   "cell_type": "code",
   "execution_count": 4,
   "id": "7960445e-8cdc-497b-9714-a3c3a90bf25b",
   "metadata": {},
   "outputs": [],
   "source": [
    "def rotate_image(image, angle):\n",
    "    (height, width) = image.shape[:2]\n",
    "    center = (width // 2, height // 2)\n",
    "    rotation_matrix = cv.getRotationMatrix2D(center, angle, 1.0)\n",
    "    rotated_image = cv.warpAffine(image, rotation_matrix, (width, height))\n",
    "    return rotated_image"
   ]
  },
  {
   "cell_type": "code",
   "execution_count": 7,
   "id": "393d488d-1c1c-4ab5-9056-de84b44526cc",
   "metadata": {},
   "outputs": [
    {
     "name": "stdout",
     "output_type": "stream",
     "text": [
      "✅ Generated 1068 augmented images.\n"
     ]
    }
   ],
   "source": [
    "import os\n",
    "import cv2 as cv\n",
    "import numpy as np\n",
    "import pandas as pd\n",
    "import tensorflow as tf\n",
    "\n",
    "# ===========================\n",
    "# 1. Load Dataset\n",
    "# ===========================\n",
    "\n",
    "# Output path for augmented images\n",
    "output_folder = 'dataset_localemissao_aumentado2'\n",
    "label_0_folder = os.path.join(output_folder, '0')\n",
    "label_1_folder = os.path.join(output_folder, '1')\n",
    "\n",
    "# Create subfolders if they don't exist\n",
    "os.makedirs(label_0_folder, exist_ok=True)\n",
    "os.makedirs(label_1_folder, exist_ok=True)\n",
    "\n",
    "def augment_image(image):\n",
    "    angles = [-10, -5, -3, 3, 5, 10]\n",
    "    angle = np.random.choice(angles)\n",
    "    image = rotate_image(image,angle) \n",
    "    image = tf.image.random_brightness(image, max_delta=0.1)\n",
    "    image = tf.image.random_contrast(image, lower=0.8, upper=1.2)\n",
    "    return image\n",
    "\n",
    "count = 0\n",
    "\n",
    "for index, row in df.iterrows():\n",
    "    file_path = row['frente']\n",
    "    label = int(row['Local de emissão'])  # True/False → 1/0\n",
    "    \n",
    "    # Load and preprocess the image\n",
    "    image = cv.imread(file_path, cv.IMREAD_GRAYSCALE)\n",
    "    x, y, w, h = 410, 112, 170, 25\n",
    "    image = image[y:y+h, x:x+w]\n",
    "    if image is None:\n",
    "        print(f\"⚠️ Failed to load image: {file_path}\")\n",
    "        continue\n",
    "    \n",
    "    # Resize and normalize\n",
    "    #image = cv.resize(image, (224, 224))\n",
    "    image = np.expand_dims(image, axis=-1)  # Add channel dimension\n",
    "    image = np.repeat(image, 3, axis=-1)  # Convert grayscale to RGB (needed for tf.image)\n",
    "\n",
    "    # Select the correct folder based on label\n",
    "    folder = label_1_folder if label == 1 else label_0_folder\n",
    "\n",
    "    # Save original image\n",
    "    original_filename = f\"{index}_original.png\"\n",
    "    cv.imwrite(os.path.join(folder, original_filename), image)\n",
    "\n",
    "    # Generate 6 augmented versions per image\n",
    "    for i in range(6):\n",
    "        augmented_image = augment_image(image)\n",
    "        augmented_image = tf.keras.utils.array_to_img(augmented_image)\n",
    "        \n",
    "        # Save augmented image in correct label folder\n",
    "        filename = f\"{index}_aug_{i}.png\"\n",
    "        augmented_image.save(os.path.join(folder, filename))\n",
    "        \n",
    "        count += 1\n",
    "\n",
    "print(f\"✅ Generated {count} augmented images.\")\n"
   ]
  },
  {
   "cell_type": "code",
   "execution_count": 8,
   "id": "73e988dc-e597-490f-91fc-fbdcc87d5fc7",
   "metadata": {},
   "outputs": [],
   "source": [
    "pasta = 'dataset_localemissao_aumentado2'\n",
    "subpastas = ['0','1']\n",
    "\n",
    "local_emissao = []\n",
    "\n",
    "for p in subpastas:\n",
    "    caminho = os.path.join(pasta, p)\n",
    "    label = int(p)\n",
    "    for imagem in os.listdir(caminho):\n",
    "        imagem_caminho = os.path.join(caminho,imagem)\n",
    "        img = cv.imread(imagem_caminho,0)\n",
    "        local_emissao.append({'caminho':imagem_caminho,'imagem':img,'label':label})\n",
    "\n",
    "df_local = pd.DataFrame(local_emissao)"
   ]
  },
  {
   "cell_type": "code",
   "execution_count": 9,
   "id": "78f8b710-2a38-4d64-a234-5f5788e60c8c",
   "metadata": {},
   "outputs": [],
   "source": [
    "df_local = df_local[df_local.columns[1:]]"
   ]
  },
  {
   "cell_type": "code",
   "execution_count": 10,
   "id": "eb65130e-015a-4dc4-9bb7-63f227e50b1d",
   "metadata": {},
   "outputs": [
    {
     "data": {
      "text/html": [
       "<div>\n",
       "<style scoped>\n",
       "    .dataframe tbody tr th:only-of-type {\n",
       "        vertical-align: middle;\n",
       "    }\n",
       "\n",
       "    .dataframe tbody tr th {\n",
       "        vertical-align: top;\n",
       "    }\n",
       "\n",
       "    .dataframe thead th {\n",
       "        text-align: right;\n",
       "    }\n",
       "</style>\n",
       "<table border=\"1\" class=\"dataframe\">\n",
       "  <thead>\n",
       "    <tr style=\"text-align: right;\">\n",
       "      <th></th>\n",
       "      <th>imagem</th>\n",
       "      <th>label</th>\n",
       "    </tr>\n",
       "  </thead>\n",
       "  <tbody>\n",
       "    <tr>\n",
       "      <th>0</th>\n",
       "      <td>[[60, 220, 230, 231, 229, 221, 221, 234, 233, ...</td>\n",
       "      <td>0</td>\n",
       "    </tr>\n",
       "    <tr>\n",
       "      <th>1</th>\n",
       "      <td>[[45, 225, 239, 247, 249, 246, 244, 247, 247, ...</td>\n",
       "      <td>0</td>\n",
       "    </tr>\n",
       "    <tr>\n",
       "      <th>2</th>\n",
       "      <td>[[49, 233, 248, 255, 255, 253, 251, 255, 255, ...</td>\n",
       "      <td>0</td>\n",
       "    </tr>\n",
       "    <tr>\n",
       "      <th>3</th>\n",
       "      <td>[[0, 0, 0, 0, 0, 0, 0, 0, 0, 0, 0, 0, 0, 0, 0,...</td>\n",
       "      <td>0</td>\n",
       "    </tr>\n",
       "    <tr>\n",
       "      <th>4</th>\n",
       "      <td>[[0, 0, 0, 0, 0, 0, 0, 0, 0, 0, 0, 0, 0, 0, 0,...</td>\n",
       "      <td>0</td>\n",
       "    </tr>\n",
       "  </tbody>\n",
       "</table>\n",
       "</div>"
      ],
      "text/plain": [
       "                                              imagem  label\n",
       "0  [[60, 220, 230, 231, 229, 221, 221, 234, 233, ...      0\n",
       "1  [[45, 225, 239, 247, 249, 246, 244, 247, 247, ...      0\n",
       "2  [[49, 233, 248, 255, 255, 253, 251, 255, 255, ...      0\n",
       "3  [[0, 0, 0, 0, 0, 0, 0, 0, 0, 0, 0, 0, 0, 0, 0,...      0\n",
       "4  [[0, 0, 0, 0, 0, 0, 0, 0, 0, 0, 0, 0, 0, 0, 0,...      0"
      ]
     },
     "execution_count": 10,
     "metadata": {},
     "output_type": "execute_result"
    }
   ],
   "source": [
    "df_local.head()"
   ]
  },
  {
   "cell_type": "code",
   "execution_count": 15,
   "id": "32c1532a-cbe9-46d6-9cdb-f5b12242a7bb",
   "metadata": {},
   "outputs": [
    {
     "name": "stdout",
     "output_type": "stream",
     "text": [
      "Total images in balanced DataFrame: 2268\n"
     ]
    }
   ],
   "source": [
    "df_sem = df_local[df_local['label'] == 0]\n",
    "df_com = df_local[df_local['label'] == 1]\n",
    "\n",
    "df_sem_upsampled = df_sem.sample(len(df_com), replace=True, random_state=42)\n",
    "\n",
    "df_balanced = pd.concat([df_com, df_sem_upsampled], ignore_index=True)\n",
    "\n",
    "df_balanced = df_balanced.sample(frac=1, random_state=42).reset_index(drop=True)\n",
    "\n",
    "print(f\"Total images in balanced DataFrame: {len(df_balanced)}\")"
   ]
  },
  {
   "cell_type": "code",
   "execution_count": 31,
   "id": "51560091-1e78-4d26-934f-21834fb00b50",
   "metadata": {},
   "outputs": [
    {
     "name": "stdout",
     "output_type": "stream",
     "text": [
      "Training set size: 1814\n",
      "Validation set size: 454\n"
     ]
    }
   ],
   "source": [
    "from sklearn.model_selection import train_test_split\n",
    "import numpy as np\n",
    "import tensorflow as tf\n",
    "\n",
    "# First, split into train + validation (85% train, 15% validation)\n",
    "train_df, val_df = train_test_split(\n",
    "    df_balanced, \n",
    "    test_size=0.2,   # 15% for validation\n",
    "    random_state=2, \n",
    "    stratify=df_balanced['label']\n",
    ")\n",
    "\n",
    "# Stack images into a single 4D NumPy array\n",
    "x_train = np.stack(train_df['imagem'].values)\n",
    "x_val = np.stack(val_df['imagem'].values)\n",
    "\n",
    "# Convert labels to numpy arrays\n",
    "y_train = np.array(train_df['label'])\n",
    "y_val = np.array(val_df['label'])\n",
    "\n",
    "# Create TensorFlow datasets\n",
    "train_dataset = tf.data.Dataset.from_tensor_slices((x_train, y_train))\n",
    "val_dataset = tf.data.Dataset.from_tensor_slices((x_val, y_val))\n",
    "\n",
    "print(f\"Training set size: {len(x_train)}\")\n",
    "print(f\"Validation set size: {len(x_val)}\")\n"
   ]
  },
  {
   "cell_type": "code",
   "execution_count": 32,
   "id": "e1ac1da1-4915-4571-a737-d2b8830a4ab8",
   "metadata": {},
   "outputs": [],
   "source": [
    "train_dataset = tf.data.Dataset.from_tensor_slices((x_train, y_train))\n",
    "val_dataset = tf.data.Dataset.from_tensor_slices((x_test, y_test))"
   ]
  },
  {
   "cell_type": "code",
   "execution_count": 33,
   "id": "799f84f7-aa96-4246-8890-c0e36a827089",
   "metadata": {},
   "outputs": [],
   "source": [
    "# Adicionar a dimensão do canal\n",
    "train_dataset = train_dataset.map(lambda x, y: (tf.expand_dims(x, axis=-1), y))\n",
    "val_dataset = val_dataset.map(lambda x, y: (tf.expand_dims(x, axis=-1), y))\n",
    "\n",
    "# Normalização\n",
    "normalization_layer = tf.keras.layers.Rescaling(1.0 / 255)\n",
    "train_dataset = train_dataset.map(lambda x, y: (normalization_layer(x), y))\n",
    "val_dataset = val_dataset.map(lambda x, y: (normalization_layer(x), y))\n",
    "\n",
    "# Criar batches corretamente\n",
    "BATCH_SIZE = 32\n",
    "train_dataset = train_dataset.batch(BATCH_SIZE).prefetch(tf.data.AUTOTUNE)\n",
    "val_dataset = val_dataset.batch(BATCH_SIZE).prefetch(tf.data.AUTOTUNE)"
   ]
  },
  {
   "cell_type": "code",
   "execution_count": 34,
   "id": "764938e0-e865-4e0a-a3cb-cc9c12020c0a",
   "metadata": {},
   "outputs": [
    {
     "name": "stderr",
     "output_type": "stream",
     "text": [
      "C:\\Users\\maria\\anaconda3\\Lib\\site-packages\\keras\\src\\layers\\convolutional\\base_conv.py:107: UserWarning: Do not pass an `input_shape`/`input_dim` argument to a layer. When using Sequential models, prefer using an `Input(shape)` object as the first layer in the model instead.\n",
      "  super().__init__(activity_regularizer=activity_regularizer, **kwargs)\n"
     ]
    }
   ],
   "source": [
    "from tensorflow.keras.callbacks import EarlyStopping\n",
    "from tensorflow.keras.optimizers import Adam\n",
    "from tensorflow.keras.regularizers import l2\n",
    "\n",
    "model = Sequential()\n",
    "\n",
    "model.add(Conv2D(16, (3, 3), activation='relu', input_shape=(170, 25, 1)))  # Fewer filters\n",
    "model.add(MaxPooling2D(pool_size=(2, 2)))\n",
    "\n",
    "model.add(Conv2D(32, (3, 3), activation='relu'))  # Fewer filters\n",
    "model.add(MaxPooling2D(pool_size=(2, 2)))\n",
    "\n",
    "# Flatten Layer\n",
    "model.add(Flatten())\n",
    "\n",
    "model.add(Dense(64, activation='relu'))  # Fewer neurons\n",
    "model.add(Dropout(0.5))  # Dropout to prevent overfitting\n",
    "\n",
    "model.add(Dense(1, activation='sigmoid',kernel_regularizer=l2(0.05)))  # Binary classification\n",
    "\n",
    "model.compile(optimizer=Adam(learning_rate=0.0005),\n",
    "              loss='binary_crossentropy',\n",
    "              metrics=['accuracy'])\n",
    "\n",
    "early_stopping = EarlyStopping(\n",
    "    monitor='val_loss',\n",
    "    patience=1,       \n",
    "    restore_best_weights=True\n",
    ")"
   ]
  },
  {
   "cell_type": "code",
   "execution_count": 35,
   "id": "51dccde4-de87-4c17-a143-a241144922ca",
   "metadata": {},
   "outputs": [
    {
     "name": "stdout",
     "output_type": "stream",
     "text": [
      "Epoch 1/15\n",
      "\u001b[1m57/57\u001b[0m \u001b[32m━━━━━━━━━━━━━━━━━━━━\u001b[0m\u001b[37m\u001b[0m \u001b[1m5s\u001b[0m 40ms/step - accuracy: 0.6659 - loss: 0.7147 - val_accuracy: 0.9824 - val_loss: 0.2441\n",
      "Epoch 2/15\n",
      "\u001b[1m57/57\u001b[0m \u001b[32m━━━━━━━━━━━━━━━━━━━━\u001b[0m\u001b[37m\u001b[0m \u001b[1m2s\u001b[0m 33ms/step - accuracy: 0.9641 - loss: 0.2260 - val_accuracy: 0.9978 - val_loss: 0.1002\n",
      "Epoch 3/15\n",
      "\u001b[1m57/57\u001b[0m \u001b[32m━━━━━━━━━━━━━━━━━━━━\u001b[0m\u001b[37m\u001b[0m \u001b[1m3s\u001b[0m 36ms/step - accuracy: 0.9906 - loss: 0.1221 - val_accuracy: 1.0000 - val_loss: 0.0775\n",
      "Epoch 4/15\n",
      "\u001b[1m57/57\u001b[0m \u001b[32m━━━━━━━━━━━━━━━━━━━━\u001b[0m\u001b[37m\u001b[0m \u001b[1m2s\u001b[0m 37ms/step - accuracy: 0.9924 - loss: 0.0945 - val_accuracy: 1.0000 - val_loss: 0.0609\n",
      "Epoch 5/15\n",
      "\u001b[1m57/57\u001b[0m \u001b[32m━━━━━━━━━━━━━━━━━━━━\u001b[0m\u001b[37m\u001b[0m \u001b[1m2s\u001b[0m 35ms/step - accuracy: 0.9965 - loss: 0.0729 - val_accuracy: 1.0000 - val_loss: 0.0510\n",
      "Epoch 6/15\n",
      "\u001b[1m57/57\u001b[0m \u001b[32m━━━━━━━━━━━━━━━━━━━━\u001b[0m\u001b[37m\u001b[0m \u001b[1m2s\u001b[0m 32ms/step - accuracy: 0.9970 - loss: 0.0612 - val_accuracy: 1.0000 - val_loss: 0.0403\n",
      "Epoch 7/15\n",
      "\u001b[1m57/57\u001b[0m \u001b[32m━━━━━━━━━━━━━━━━━━━━\u001b[0m\u001b[37m\u001b[0m \u001b[1m3s\u001b[0m 34ms/step - accuracy: 0.9970 - loss: 0.0502 - val_accuracy: 1.0000 - val_loss: 0.0343\n",
      "Epoch 8/15\n",
      "\u001b[1m57/57\u001b[0m \u001b[32m━━━━━━━━━━━━━━━━━━━━\u001b[0m\u001b[37m\u001b[0m \u001b[1m2s\u001b[0m 34ms/step - accuracy: 0.9976 - loss: 0.0420 - val_accuracy: 1.0000 - val_loss: 0.0310\n",
      "Epoch 9/15\n",
      "\u001b[1m57/57\u001b[0m \u001b[32m━━━━━━━━━━━━━━━━━━━━\u001b[0m\u001b[37m\u001b[0m \u001b[1m2s\u001b[0m 35ms/step - accuracy: 0.9986 - loss: 0.0345 - val_accuracy: 1.0000 - val_loss: 0.0242\n",
      "Epoch 10/15\n",
      "\u001b[1m57/57\u001b[0m \u001b[32m━━━━━━━━━━━━━━━━━━━━\u001b[0m\u001b[37m\u001b[0m \u001b[1m2s\u001b[0m 34ms/step - accuracy: 0.9962 - loss: 0.0349 - val_accuracy: 1.0000 - val_loss: 0.0208\n",
      "Epoch 11/15\n",
      "\u001b[1m57/57\u001b[0m \u001b[32m━━━━━━━━━━━━━━━━━━━━\u001b[0m\u001b[37m\u001b[0m \u001b[1m2s\u001b[0m 32ms/step - accuracy: 0.9989 - loss: 0.0269 - val_accuracy: 1.0000 - val_loss: 0.0190\n",
      "Epoch 12/15\n",
      "\u001b[1m57/57\u001b[0m \u001b[32m━━━━━━━━━━━━━━━━━━━━\u001b[0m\u001b[37m\u001b[0m \u001b[1m2s\u001b[0m 36ms/step - accuracy: 1.0000 - loss: 0.0222 - val_accuracy: 1.0000 - val_loss: 0.0153\n",
      "Epoch 13/15\n",
      "\u001b[1m57/57\u001b[0m \u001b[32m━━━━━━━━━━━━━━━━━━━━\u001b[0m\u001b[37m\u001b[0m \u001b[1m2s\u001b[0m 33ms/step - accuracy: 0.9997 - loss: 0.0199 - val_accuracy: 1.0000 - val_loss: 0.0141\n",
      "Epoch 14/15\n",
      "\u001b[1m57/57\u001b[0m \u001b[32m━━━━━━━━━━━━━━━━━━━━\u001b[0m\u001b[37m\u001b[0m \u001b[1m2s\u001b[0m 36ms/step - accuracy: 0.9988 - loss: 0.0198 - val_accuracy: 1.0000 - val_loss: 0.0120\n",
      "Epoch 15/15\n",
      "\u001b[1m57/57\u001b[0m \u001b[32m━━━━━━━━━━━━━━━━━━━━\u001b[0m\u001b[37m\u001b[0m \u001b[1m2s\u001b[0m 33ms/step - accuracy: 1.0000 - loss: 0.0154 - val_accuracy: 1.0000 - val_loss: 0.0108\n"
     ]
    }
   ],
   "source": [
    "# Treino do modelo\n",
    "#class_weights = {0: 0.6, 1: 0.4}\n",
    "history = model.fit(\n",
    "    train_dataset,\n",
    "    epochs=15,\n",
    "    validation_data=val_dataset,\n",
    "    callbacks = [early_stopping]\n",
    ")"
   ]
  },
  {
   "cell_type": "code",
   "execution_count": 36,
   "id": "62b06343-533f-4e20-bb56-4205dc8dafa8",
   "metadata": {},
   "outputs": [
    {
     "name": "stdout",
     "output_type": "stream",
     "text": [
      "\u001b[1m15/15\u001b[0m \u001b[32m━━━━━━━━━━━━━━━━━━━━\u001b[0m\u001b[37m\u001b[0m \u001b[1m0s\u001b[0m 13ms/step - accuracy: 1.0000 - loss: 0.0108\n",
      "Validation Accuracy: 100.00%\n"
     ]
    }
   ],
   "source": [
    "val_loss, val_accuracy = model.evaluate(val_dataset)\n",
    "print(f\"Validation Accuracy: {val_accuracy * 100:.2f}%\")"
   ]
  },
  {
   "cell_type": "code",
   "execution_count": 1,
   "id": "206ccbc6-c9d5-4763-af16-c69579de228f",
   "metadata": {},
   "outputs": [
    {
     "ename": "NameError",
     "evalue": "name 'model' is not defined",
     "output_type": "error",
     "traceback": [
      "\u001b[1;31m---------------------------------------------------------------------------\u001b[0m",
      "\u001b[1;31mNameError\u001b[0m                                 Traceback (most recent call last)",
      "Cell \u001b[1;32mIn[1], line 1\u001b[0m\n\u001b[1;32m----> 1\u001b[0m test_loss, test_acc \u001b[38;5;241m=\u001b[39m model\u001b[38;5;241m.\u001b[39mevaluate(x_test, y_test)\n\u001b[0;32m      2\u001b[0m \u001b[38;5;28mprint\u001b[39m(\u001b[38;5;124mf\u001b[39m\u001b[38;5;124m\"\u001b[39m\u001b[38;5;124mTest Accuracy: \u001b[39m\u001b[38;5;132;01m{\u001b[39;00mtest_acc\u001b[38;5;132;01m:\u001b[39;00m\u001b[38;5;124m.2f\u001b[39m\u001b[38;5;132;01m}\u001b[39;00m\u001b[38;5;124m\"\u001b[39m)\n",
      "\u001b[1;31mNameError\u001b[0m: name 'model' is not defined"
     ]
    }
   ],
   "source": [
    "test_loss, test_acc = model.evaluate(x_test, y_test)\n",
    "print(f\"Test Accuracy: {test_acc:.2f}\")"
   ]
  },
  {
   "cell_type": "code",
   "execution_count": 45,
   "id": "08e61983-916b-456a-be1a-d9ae38f567df",
   "metadata": {},
   "outputs": [
    {
     "name": "stdout",
     "output_type": "stream",
     "text": [
      "\u001b[1m15/15\u001b[0m \u001b[32m━━━━━━━━━━━━━━━━━━━━\u001b[0m\u001b[37m\u001b[0m \u001b[1m1s\u001b[0m 32ms/step\n"
     ]
    },
    {
     "data": {
      "image/png": "[encoded data removed]",
      "text/plain": [
       "<Figure size 640x480 with 2 Axes>"
      ]
     },
     "metadata": {},
     "output_type": "display_data"
    },
    {
     "name": "stdout",
     "output_type": "stream",
     "text": [
      "              precision    recall  f1-score   support\n",
      "\n",
      "       Blank       1.00      1.00      1.00       227\n",
      "      Signed       1.00      1.00      1.00       227\n",
      "\n",
      "    accuracy                           1.00       454\n",
      "   macro avg       1.00      1.00      1.00       454\n",
      "weighted avg       1.00      1.00      1.00       454\n",
      "\n"
     ]
    }
   ],
   "source": [
    "from sklearn.metrics import confusion_matrix, classification_report\n",
    "import seaborn as sns\n",
    "import matplotlib.pyplot as plt\n",
    "\n",
    "y_pred = (model.predict(x_test) > 0.5).astype(int)\n",
    "cm = confusion_matrix(y_test, y_pred)\n",
    "sns.heatmap(cm, annot=True, fmt='d', cmap='Blues', xticklabels=['Blank', 'Signed'], yticklabels=['Blank', 'Signed'])\n",
    "plt.xlabel('Predicted')\n",
    "plt.ylabel('Actual')\n",
    "plt.title('Confusion Matrix')\n",
    "plt.show()\n",
    "\n",
    "print(classification_report(y_test, y_pred, target_names=['Blank', 'Signed']))\n"
   ]
  },
  {
   "cell_type": "code",
   "execution_count": 38,
   "id": "d0e64abf-e282-4eb8-a96e-8bdcfc53aad8",
   "metadata": {},
   "outputs": [],
   "source": [
    "model.save(\"ModeloLocalDeEmissaoNovo3.keras\")"
   ]
  }
 ],
 "metadata": {
  "kernelspec": {
   "display_name": "Python 3 (ipykernel)",
   "language": "python",
   "name": "python3"
  },
  "language_info": {
   "codemirror_mode": {
    "name": "ipython",
    "version": 3
   },
   "file_extension": ".py",
   "mimetype": "text/x-python",
   "name": "python",
   "nbconvert_exporter": "python",
   "pygments_lexer": "ipython3",
   "version": "3.12.7"
  }
 },
 "nbformat": 4,
 "nbformat_minor": 5
}
