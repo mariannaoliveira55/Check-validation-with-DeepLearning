{
 "cells": [
  {
   "cell_type": "code",
   "execution_count": 2,
   "id": "9e9c6a00-6e38-4c55-9797-b4efd00032e5",
   "metadata": {},
   "outputs": [],
   "source": [
    "import tensorflow as tf\n",
    "import os\n",
    "import pandas as pd\n",
    "import numpy as np\n",
    "import cv2 as cv\n",
    "from sklearn.model_selection import train_test_split\n",
    "from sklearn.metrics import classification_report, confusion_matrix\n",
    "from tensorflow.keras.models import Sequential\n",
    "from tensorflow.keras.layers import Conv2D,MaxPooling2D,Dropout,BatchNormalization,Flatten,Dense\n",
    "from sklearn.metrics import confusion_matrix\n",
    "import seaborn as sns\n",
    "import matplotlib.pyplot as plt"
   ]
  },
  {
   "cell_type": "code",
   "execution_count": 3,
   "id": "c9e4a4da-55f1-4f2c-9c44-43d63ef63a2c",
   "metadata": {},
   "outputs": [],
   "source": [
    "df = pd.read_csv(\"Dataset Completo/DataframeCompleto.csv\", index_col = 0)\n",
    "df = df[['frente','Montante bancário']]"
   ]
  },
  {
   "cell_type": "code",
   "execution_count": 218,
   "id": "c913f187-afdb-4663-9c27-b17b1d384379",
   "metadata": {},
   "outputs": [],
   "source": [
    "def rotate_image(image, angle):\n",
    "    (height, width) = image.shape[:2]\n",
    "    center = (width // 2, height // 2)\n",
    "    rotation_matrix = cv.getRotationMatrix2D(center, angle, 1.0)\n",
    "    rotated_image = cv.warpAffine(image, rotation_matrix, (width, height))\n",
    "    return rotated_image"
   ]
  },
  {
   "cell_type": "code",
   "execution_count": null,
   "id": "97a974c5-63b4-49ce-9940-6f184b2fb749",
   "metadata": {},
   "outputs": [
    {
     "name": "stdout",
     "output_type": "stream",
     "text": [
      "✅ Generated 1068 augmented images.\n"
     ]
    }
   ],
   "source": [
    "import os\n",
    "import cv2 as cv\n",
    "import numpy as np\n",
    "import pandas as pd\n",
    "import tensorflow as tf\n",
    "\n",
    "\n",
    "# Output path for augmented images\n",
    "output_folder = 'dataset_montante_aumentado2'\n",
    "label_0_folder = os.path.join(output_folder, '0')\n",
    "label_1_folder = os.path.join(output_folder, '1')\n",
    "\n",
    "# Create subfolders if they don't exist\n",
    "os.makedirs(label_0_folder, exist_ok=True)\n",
    "os.makedirs(label_1_folder, exist_ok=True)\n",
    "\n",
    "import tensorflow as tf\n",
    "import numpy as np\n",
    "\n",
    "def augment_image(image):\n",
    "    angles = [-10, -5, -3, 3, 5, 10]\n",
    "    angle = np.random.choice(angles)\n",
    "    image = rotate_image(image,angle) \n",
    "    image = tf.image.random_brightness(image, max_delta=0.1)\n",
    "    image = tf.image.random_contrast(image, lower=0.8, upper=1.2)\n",
    "    return image\n",
    "\n",
    "count = 0\n",
    "\n",
    "for index, row in df.iterrows():\n",
    "    file_path = row['frente']\n",
    "    label = int(row['Montante bancário'])  # True/False → 1/0\n",
    "    \n",
    "    # Load and preprocess the image\n",
    "    image = cv.imread(file_path, cv.IMREAD_GRAYSCALE)\n",
    "    x, y, w, h = 350, 73, 300, 28\n",
    "    image = image[y:y+h, x:x+w]\n",
    "    if image is None:\n",
    "        print(f\"⚠️ Failed to load image: {file_path}\")\n",
    "        continue\n",
    "    \n",
    "    # Resize and normalize\n",
    "    image = cv.resize(image, (28, 234))\n",
    "    image = np.expand_dims(image, axis=-1)  # Add channel dimension\n",
    "    image = np.repeat(image, 3, axis=-1)  # Convert grayscale to RGB (needed for tf.image)\n",
    "\n",
    "    # Select the correct folder based on label\n",
    "    folder = label_1_folder if label == 1 else label_0_folder\n",
    "\n",
    "    # Save original image\n",
    "    original_filename = f\"{index}_original.png\"\n",
    "    cv.imwrite(os.path.join(folder, original_filename), image)\n",
    "\n",
    "    # Generate 6 augmented versions per image\n",
    "    for i in range(6):\n",
    "        augmented_image = augment_image(image)\n",
    "        augmented_image = tf.keras.utils.array_to_img(augmented_image)\n",
    "        \n",
    "        # Save augmented image in correct label folder\n",
    "        filename = f\"{index}_aug_{i}.png\"\n",
    "        augmented_image.save(os.path.join(folder, filename))\n",
    "        \n",
    "        count += 1\n",
    "\n",
    "print(f\"Generated {count} augmented images.\")\n"
   ]
  },
  {
   "cell_type": "code",
   "execution_count": 232,
   "id": "97954953-a5c3-49e9-9b17-75e5362333b2",
   "metadata": {},
   "outputs": [],
   "source": [
    "pasta = 'dataset_montante_aumentado2'\n",
    "subpastas = ['0','1']\n",
    "\n",
    "montante_bancario = []\n",
    "\n",
    "for p in subpastas:\n",
    "    caminho = os.path.join(pasta, p)\n",
    "    label = int(p)\n",
    "    for imagem in os.listdir(caminho):\n",
    "        imagem_caminho = os.path.join(caminho,imagem)\n",
    "        img = cv.imread(imagem_caminho,0)\n",
    "        montante_bancario.append({'caminho':imagem_caminho,'imagem':img,'label':label})\n",
    "\n",
    "df_montante = pd.DataFrame(montante_bancario)"
   ]
  },
  {
   "cell_type": "code",
   "execution_count": 233,
   "id": "2727edc6-6396-4687-94b8-1d89bf9dc2de",
   "metadata": {},
   "outputs": [],
   "source": [
    "df_montante = df_montante[df_montante.columns[1:]]"
   ]
  },
  {
   "cell_type": "code",
   "execution_count": 234,
   "id": "1b9530f2-5f96-4044-9d79-bbf126ace699",
   "metadata": {},
   "outputs": [
    {
     "data": {
      "text/html": [
       "<div>\n",
       "<style scoped>\n",
       "    .dataframe tbody tr th:only-of-type {\n",
       "        vertical-align: middle;\n",
       "    }\n",
       "\n",
       "    .dataframe tbody tr th {\n",
       "        vertical-align: top;\n",
       "    }\n",
       "\n",
       "    .dataframe thead th {\n",
       "        text-align: right;\n",
       "    }\n",
       "</style>\n",
       "<table border=\"1\" class=\"dataframe\">\n",
       "  <thead>\n",
       "    <tr style=\"text-align: right;\">\n",
       "      <th></th>\n",
       "      <th>imagem</th>\n",
       "      <th>label</th>\n",
       "    </tr>\n",
       "  </thead>\n",
       "  <tbody>\n",
       "    <tr>\n",
       "      <th>0</th>\n",
       "      <td>[[66, 77, 69, 71, 112, 120, 133, 133, 145, 175...</td>\n",
       "      <td>0</td>\n",
       "    </tr>\n",
       "    <tr>\n",
       "      <th>1</th>\n",
       "      <td>[[85, 93, 86, 89, 126, 131, 144, 143, 153, 182...</td>\n",
       "      <td>0</td>\n",
       "    </tr>\n",
       "    <tr>\n",
       "      <th>2</th>\n",
       "      <td>[[50, 61, 53, 55, 100, 108, 123, 122, 135, 168...</td>\n",
       "      <td>0</td>\n",
       "    </tr>\n",
       "    <tr>\n",
       "      <th>3</th>\n",
       "      <td>[[0, 0, 0, 0, 0, 0, 170, 195, 199, 202, 206, 2...</td>\n",
       "      <td>0</td>\n",
       "    </tr>\n",
       "    <tr>\n",
       "      <th>4</th>\n",
       "      <td>[[0, 0, 0, 0, 0, 0, 0, 0, 0, 0, 138, 182, 187,...</td>\n",
       "      <td>0</td>\n",
       "    </tr>\n",
       "  </tbody>\n",
       "</table>\n",
       "</div>"
      ],
      "text/plain": [
       "                                              imagem  label\n",
       "0  [[66, 77, 69, 71, 112, 120, 133, 133, 145, 175...      0\n",
       "1  [[85, 93, 86, 89, 126, 131, 144, 143, 153, 182...      0\n",
       "2  [[50, 61, 53, 55, 100, 108, 123, 122, 135, 168...      0\n",
       "3  [[0, 0, 0, 0, 0, 0, 170, 195, 199, 202, 206, 2...      0\n",
       "4  [[0, 0, 0, 0, 0, 0, 0, 0, 0, 0, 138, 182, 187,...      0"
      ]
     },
     "execution_count": 234,
     "metadata": {},
     "output_type": "execute_result"
    }
   ],
   "source": [
    "df_montante.head()"
   ]
  },
  {
   "cell_type": "code",
   "execution_count": 235,
   "id": "97166f0c-cfe7-423a-8d8b-2570933d0662",
   "metadata": {},
   "outputs": [
    {
     "name": "stdout",
     "output_type": "stream",
     "text": [
      "Total images in balanced DataFrame: 2296\n"
     ]
    }
   ],
   "source": [
    "df_sem = df_montante[df_montante['label'] == 0]\n",
    "df_com = df_montante[df_montante['label'] == 1]\n",
    "\n",
    "df_sem_upsampled = df_sem.sample(len(df_com), replace=True, random_state=42)\n",
    "\n",
    "df_balanced = pd.concat([df_com, df_sem_upsampled], ignore_index=True)\n",
    "\n",
    "df_balanced = df_balanced.sample(frac=1, random_state=42).reset_index(drop=True)\n",
    "\n",
    "print(f\"Total images in balanced DataFrame: {len(df_balanced)}\")"
   ]
  },
  {
   "cell_type": "code",
   "execution_count": 278,
   "id": "56b0c71f-d4de-4e48-bccc-a0cc373ec117",
   "metadata": {},
   "outputs": [
    {
     "name": "stdout",
     "output_type": "stream",
     "text": [
      "Training set size: 1951\n",
      "Validation set size: 345\n"
     ]
    }
   ],
   "source": [
    "from sklearn.model_selection import train_test_split\n",
    "import numpy as np\n",
    "import tensorflow as tf\n",
    "\n",
    "# First, split into train + validation (85% train, 15% validation)\n",
    "train_df, val_df = train_test_split(\n",
    "    df_balanced, \n",
    "    test_size=0.15,   # 15% for validation\n",
    "    random_state=2, \n",
    "    stratify=df_balanced['label']\n",
    ")\n",
    "\n",
    "# Stack images into a single 4D NumPy array\n",
    "x_train = np.stack(train_df['imagem'].values)\n",
    "x_val = np.stack(val_df['imagem'].values)\n",
    "\n",
    "# Convert labels to numpy arrays\n",
    "y_train = np.array(train_df['label'])\n",
    "y_val = np.array(val_df['label'])\n",
    "\n",
    "# Create TensorFlow datasets\n",
    "train_dataset = tf.data.Dataset.from_tensor_slices((x_train, y_train))\n",
    "val_dataset = tf.data.Dataset.from_tensor_slices((x_val, y_val))\n",
    "\n",
    "print(f\"Training set size: {len(x_train)}\")\n",
    "print(f\"Validation set size: {len(x_val)}\")\n"
   ]
  },
  {
   "cell_type": "code",
   "execution_count": 279,
   "id": "05c44efd-eb8f-44f1-9be3-a7adc2b791a7",
   "metadata": {},
   "outputs": [],
   "source": [
    "# Adicionar a dimensão do canal\n",
    "train_dataset = train_dataset.map(lambda x, y: (tf.expand_dims(x, axis=-1), y))\n",
    "val_dataset = val_dataset.map(lambda x, y: (tf.expand_dims(x, axis=-1), y))\n",
    "\n",
    "# Normalização\n",
    "normalization_layer = tf.keras.layers.Rescaling(1.0 / 255)\n",
    "train_dataset = train_dataset.map(lambda x, y: (normalization_layer(x), y))\n",
    "val_dataset = val_dataset.map(lambda x, y: (normalization_layer(x), y))\n",
    "\n",
    "# Criar batches corretamente\n",
    "BATCH_SIZE = 32\n",
    "train_dataset = train_dataset.batch(BATCH_SIZE).prefetch(tf.data.AUTOTUNE)\n",
    "val_dataset = val_dataset.batch(BATCH_SIZE).prefetch(tf.data.AUTOTUNE)"
   ]
  },
  {
   "cell_type": "code",
   "execution_count": 281,
   "id": "7d2ee50c-262a-4f4f-9c10-a1b8aee7ebe4",
   "metadata": {},
   "outputs": [],
   "source": [
    "from tensorflow.keras.models import Sequential\n",
    "from tensorflow.keras.layers import Conv2D, MaxPooling2D, Flatten, Dense, Dropout, BatchNormalization\n",
    "from tensorflow.keras.optimizers import Adam\n",
    "from tensorflow.keras.regularizers import l2\n",
    "from tensorflow.keras.callbacks import EarlyStopping\n",
    "import tensorflow as tf\n",
    "\n",
    "from tensorflow.keras.callbacks import EarlyStopping\n",
    "from tensorflow.keras.optimizers import Adam\n",
    "from tensorflow.keras.regularizers import l2\n",
    "\n",
    "model = Sequential()\n",
    "\n",
    "model.add(Conv2D(16, (3, 3), activation='relu', input_shape=(28, 234, 1)))  # Fewer filters\n",
    "model.add(MaxPooling2D(pool_size=(2, 2)))\n",
    "\n",
    "model.add(Conv2D(32, (3, 3), activation='relu'))  # Fewer filters\n",
    "model.add(MaxPooling2D(pool_size=(2, 2)))\n",
    "\n",
    "# Flatten Layer\n",
    "model.add(Flatten())\n",
    "\n",
    "model.add(Dense(64, activation='relu'))  # Fewer neurons\n",
    "model.add(Dropout(0.5))  # Dropout to prevent overfitting\n",
    "\n",
    "model.add(Dense(1, activation='sigmoid',kernel_regularizer=l2(0.05)))  # Binary classification\n",
    "\n",
    "model.compile(optimizer=Adam(learning_rate=0.0005),\n",
    "              loss='binary_crossentropy',\n",
    "              metrics=['accuracy'])\n",
    "\n",
    "early_stopping = EarlyStopping(\n",
    "    monitor='val_loss',\n",
    "    patience=2,       \n",
    "    restore_best_weights=True\n",
    ")\n"
   ]
  },
  {
   "cell_type": "code",
   "execution_count": 282,
   "id": "a8fc26b6-7c6f-48db-af0e-673be4a48b9e",
   "metadata": {},
   "outputs": [
    {
     "name": "stdout",
     "output_type": "stream",
     "text": [
      "Epoch 1/15\n",
      "\u001b[1m61/61\u001b[0m \u001b[32m━━━━━━━━━━━━━━━━━━━━\u001b[0m\u001b[37m\u001b[0m \u001b[1m5s\u001b[0m 31ms/step - accuracy: 0.5883 - loss: 0.7778 - val_accuracy: 0.9594 - val_loss: 0.5783\n",
      "Epoch 2/15\n",
      "\u001b[1m61/61\u001b[0m \u001b[32m━━━━━━━━━━━━━━━━━━━━\u001b[0m\u001b[37m\u001b[0m \u001b[1m2s\u001b[0m 24ms/step - accuracy: 0.9040 - loss: 0.4813 - val_accuracy: 1.0000 - val_loss: 0.1798\n",
      "Epoch 3/15\n",
      "\u001b[1m61/61\u001b[0m \u001b[32m━━━━━━━━━━━━━━━━━━━━\u001b[0m\u001b[37m\u001b[0m \u001b[1m3s\u001b[0m 25ms/step - accuracy: 0.9778 - loss: 0.2023 - val_accuracy: 1.0000 - val_loss: 0.1018\n",
      "Epoch 4/15\n",
      "\u001b[1m61/61\u001b[0m \u001b[32m━━━━━━━━━━━━━━━━━━━━\u001b[0m\u001b[37m\u001b[0m \u001b[1m2s\u001b[0m 23ms/step - accuracy: 0.9871 - loss: 0.1354 - val_accuracy: 0.9971 - val_loss: 0.0846\n",
      "Epoch 5/15\n",
      "\u001b[1m61/61\u001b[0m \u001b[32m━━━━━━━━━━━━━━━━━━━━\u001b[0m\u001b[37m\u001b[0m \u001b[1m1s\u001b[0m 24ms/step - accuracy: 0.9899 - loss: 0.1092 - val_accuracy: 0.9971 - val_loss: 0.0726\n",
      "Epoch 6/15\n",
      "\u001b[1m61/61\u001b[0m \u001b[32m━━━━━━━━━━━━━━━━━━━━\u001b[0m\u001b[37m\u001b[0m \u001b[1m1s\u001b[0m 22ms/step - accuracy: 0.9895 - loss: 0.1023 - val_accuracy: 1.0000 - val_loss: 0.0575\n",
      "Epoch 7/15\n",
      "\u001b[1m61/61\u001b[0m \u001b[32m━━━━━━━━━━━━━━━━━━━━\u001b[0m\u001b[37m\u001b[0m \u001b[1m3s\u001b[0m 23ms/step - accuracy: 0.9921 - loss: 0.0829 - val_accuracy: 1.0000 - val_loss: 0.0482\n",
      "Epoch 8/15\n",
      "\u001b[1m61/61\u001b[0m \u001b[32m━━━━━━━━━━━━━━━━━━━━\u001b[0m\u001b[37m\u001b[0m \u001b[1m2s\u001b[0m 24ms/step - accuracy: 0.9969 - loss: 0.0676 - val_accuracy: 1.0000 - val_loss: 0.0417\n",
      "Epoch 9/15\n",
      "\u001b[1m61/61\u001b[0m \u001b[32m━━━━━━━━━━━━━━━━━━━━\u001b[0m\u001b[37m\u001b[0m \u001b[1m1s\u001b[0m 24ms/step - accuracy: 0.9884 - loss: 0.0758 - val_accuracy: 1.0000 - val_loss: 0.0367\n",
      "Epoch 10/15\n",
      "\u001b[1m61/61\u001b[0m \u001b[32m━━━━━━━━━━━━━━━━━━━━\u001b[0m\u001b[37m\u001b[0m \u001b[1m3s\u001b[0m 23ms/step - accuracy: 0.9940 - loss: 0.0546 - val_accuracy: 1.0000 - val_loss: 0.0314\n",
      "Epoch 11/15\n",
      "\u001b[1m61/61\u001b[0m \u001b[32m━━━━━━━━━━━━━━━━━━━━\u001b[0m\u001b[37m\u001b[0m \u001b[1m2s\u001b[0m 24ms/step - accuracy: 0.9946 - loss: 0.0521 - val_accuracy: 1.0000 - val_loss: 0.0275\n",
      "Epoch 12/15\n",
      "\u001b[1m61/61\u001b[0m \u001b[32m━━━━━━━━━━━━━━━━━━━━\u001b[0m\u001b[37m\u001b[0m \u001b[1m3s\u001b[0m 24ms/step - accuracy: 0.9935 - loss: 0.0420 - val_accuracy: 1.0000 - val_loss: 0.0238\n",
      "Epoch 13/15\n",
      "\u001b[1m61/61\u001b[0m \u001b[32m━━━━━━━━━━━━━━━━━━━━\u001b[0m\u001b[37m\u001b[0m \u001b[1m1s\u001b[0m 23ms/step - accuracy: 0.9938 - loss: 0.0397 - val_accuracy: 0.9971 - val_loss: 0.0292\n",
      "Epoch 14/15\n",
      "\u001b[1m61/61\u001b[0m \u001b[32m━━━━━━━━━━━━━━━━━━━━\u001b[0m\u001b[37m\u001b[0m \u001b[1m3s\u001b[0m 23ms/step - accuracy: 0.9950 - loss: 0.0391 - val_accuracy: 1.0000 - val_loss: 0.0187\n",
      "Epoch 15/15\n",
      "\u001b[1m61/61\u001b[0m \u001b[32m━━━━━━━━━━━━━━━━━━━━\u001b[0m\u001b[37m\u001b[0m \u001b[1m1s\u001b[0m 22ms/step - accuracy: 0.9951 - loss: 0.0350 - val_accuracy: 1.0000 - val_loss: 0.0172\n"
     ]
    }
   ],
   "source": [
    "# Treino do modelo\n",
    "#class_weights = {0: 0.6, 1: 0.4}\n",
    "history = model.fit(\n",
    "    train_dataset,\n",
    "    epochs=15,\n",
    "    validation_data=val_dataset,\n",
    "    callbacks = [early_stopping]\n",
    ")"
   ]
  },
  {
   "cell_type": "code",
   "execution_count": 283,
   "id": "7e6f3311-9d83-4de2-aeaa-196c158f0214",
   "metadata": {},
   "outputs": [
    {
     "name": "stdout",
     "output_type": "stream",
     "text": [
      "\u001b[1m11/11\u001b[0m \u001b[32m━━━━━━━━━━━━━━━━━━━━\u001b[0m\u001b[37m\u001b[0m \u001b[1m0s\u001b[0m 12ms/step - accuracy: 1.0000 - loss: 0.0170\n",
      "Validation Accuracy: 100.00%\n"
     ]
    }
   ],
   "source": [
    "val_loss, val_accuracy = model.evaluate(val_dataset)\n",
    "print(f\"Validation Accuracy: {val_accuracy * 100:.2f}%\")"
   ]
  },
  {
   "cell_type": "code",
   "execution_count": 276,
   "id": "a9593a3e-f9cc-40a1-9238-38b83e6e7386",
   "metadata": {},
   "outputs": [
    {
     "data": {
      "text/plain": [
       "<_PrefetchDataset element_spec=(TensorSpec(shape=(None, 234, 28, 1), dtype=tf.float32, name=None), TensorSpec(shape=(None,), dtype=tf.int64, name=None))>"
      ]
     },
     "execution_count": 276,
     "metadata": {},
     "output_type": "execute_result"
    }
   ],
   "source": [
    "val_dataset"
   ]
  },
  {
   "cell_type": "code",
   "execution_count": 285,
   "id": "cde40bf6-8b44-4c41-bd9e-142e2c01cd6d",
   "metadata": {},
   "outputs": [
    {
     "name": "stdout",
     "output_type": "stream",
     "text": [
      "\u001b[1m15/15\u001b[0m \u001b[32m━━━━━━━━━━━━━━━━━━━━\u001b[0m\u001b[37m\u001b[0m \u001b[1m0s\u001b[0m 18ms/step - accuracy: 0.9759 - loss: 14.8484\n",
      "Test Accuracy: 0.97\n"
     ]
    }
   ],
   "source": [
    "test_loss, test_acc = model.evaluate(x_test, y_test)\n",
    "print(f\"Test Accuracy: {test_acc:.2f}\")"
   ]
  },
  {
   "cell_type": "code",
   "execution_count": 287,
   "id": "4955499b-c0a0-4fed-9616-b7a04f5fb4e5",
   "metadata": {},
   "outputs": [
    {
     "data": {
      "image/png": "[encoded data removed]",
      "text/plain": [
       "<Figure size 1400x500 with 2 Axes>"
      ]
     },
     "metadata": {},
     "output_type": "display_data"
    }
   ],
   "source": [
    "import matplotlib.pyplot as plt\n",
    "\n",
    "# Dados\n",
    "epochs = list(range(1, 16))\n",
    "accuracy = [0.5883, 0.9040, 0.9778, 0.9871, 0.9899, 0.9895, 0.9921, 0.9969, 0.9884, 0.9940, 0.9946, 0.9935, 0.9938, 0.9950, 0.9951]\n",
    "val_accuracy = [0.9594, 1.0000, 1.0000, 0.9971, 0.9971, 1.0000, 1.0000, 1.0000, 1.0000, 1.0000, 1.0000, 1.0000, 0.9971, 1.0000, 1.0000]\n",
    "\n",
    "loss = [0.7778, 0.4813, 0.2023, 0.1354, 0.1092, 0.1023, 0.0829, 0.0676, 0.0758, 0.0546, 0.0521, 0.0420, 0.0397, 0.0391, 0.0350]\n",
    "val_loss = [0.5783, 0.1798, 0.1018, 0.0846, 0.0726, 0.0575, 0.0482, 0.0417, 0.0367, 0.0314, 0.0275, 0.0238, 0.0292, 0.0187, 0.0172]\n",
    "\n",
    "# Gráficos lado a lado\n",
    "fig, (ax1, ax2) = plt.subplots(1, 2, figsize=(14, 5))\n",
    "# Accuracy plot\n",
    "ax1.plot(epochs, accuracy, label='Training Accuracy')\n",
    "ax1.plot(epochs, val_accuracy, label='Validation Accuracy')\n",
    "ax1.set_xlabel('Epoch')\n",
    "ax1.set_ylabel('Accuracy')\n",
    "ax1.set_title('Training vs Validation Accuracy')\n",
    "ax1.legend()\n",
    "\n",
    "# Loss plot\n",
    "ax2.plot(epochs, loss, label='Training Loss')\n",
    "ax2.plot(epochs, val_loss, label='Validation Loss')\n",
    "ax2.set_xlabel('Epoch')\n",
    "ax2.set_ylabel('Loss')\n",
    "ax2.set_title('Training vs Validation Loss')\n",
    "ax2.legend()\n",
    "\n",
    "# Ajustar layout\n",
    "plt.tight_layout()\n",
    "plt.show()\n"
   ]
  },
  {
   "cell_type": "code",
   "execution_count": 286,
   "id": "fbc41e75-eed7-46fd-a0e5-a8c49c67d255",
   "metadata": {},
   "outputs": [
    {
     "name": "stdout",
     "output_type": "stream",
     "text": [
      "\u001b[1m15/15\u001b[0m \u001b[32m━━━━━━━━━━━━━━━━━━━━\u001b[0m\u001b[37m\u001b[0m \u001b[1m1s\u001b[0m 31ms/step\n"
     ]
    },
    {
     "data": {
      "image/png": "[encoded data removed]",
      "text/plain": [
       "<Figure size 640x480 with 2 Axes>"
      ]
     },
     "metadata": {},
     "output_type": "display_data"
    },
    {
     "name": "stdout",
     "output_type": "stream",
     "text": [
      "              precision    recall  f1-score   support\n",
      "\n",
      "       Blank       0.95      1.00      0.97       230\n",
      "      Signed       1.00      0.94      0.97       230\n",
      "\n",
      "    accuracy                           0.97       460\n",
      "   macro avg       0.97      0.97      0.97       460\n",
      "weighted avg       0.97      0.97      0.97       460\n",
      "\n"
     ]
    }
   ],
   "source": [
    "from sklearn.metrics import confusion_matrix, classification_report\n",
    "import seaborn as sns\n",
    "import matplotlib.pyplot as plt\n",
    "\n",
    "y_pred = (model.predict(x_test) > 0.5).astype(int)\n",
    "cm = confusion_matrix(y_test, y_pred)\n",
    "sns.heatmap(cm, annot=True, fmt='d', cmap='Blues', xticklabels=['Blank', 'Signed'], yticklabels=['Blank', 'Signed'])\n",
    "plt.xlabel('Predicted')\n",
    "plt.ylabel('Actual')\n",
    "plt.title('Confusion Matrix')\n",
    "plt.show()\n",
    "\n",
    "print(classification_report(y_test, y_pred, target_names=['Blank', 'Signed']))"
   ]
  },
  {
   "cell_type": "code",
   "execution_count": 243,
   "id": "5798c8c9-f2e1-4f44-8315-b70d1148bdae",
   "metadata": {},
   "outputs": [],
   "source": [
    "model.save(\"ModeloMontanteBancario2.keras\")"
   ]
  }
 ],
 "metadata": {
  "kernelspec": {
   "display_name": "Python 3 (ipykernel)",
   "language": "python",
   "name": "python3"
  },
  "language_info": {
   "codemirror_mode": {
    "name": "ipython",
    "version": 3
   },
   "file_extension": ".py",
   "mimetype": "text/x-python",
   "name": "python",
   "nbconvert_exporter": "python",
   "pygments_lexer": "ipython3",
   "version": "3.12.7"
  }
 },
 "nbformat": 4,
 "nbformat_minor": 5
}
